{
 "cells": [
  {
   "cell_type": "markdown",
   "metadata": {},
   "source": [
    "# Cindy and Hal's Spain Vacation June 2019!!"
   ]
  },
  {
   "cell_type": "markdown",
   "metadata": {},
   "source": [
    "## Day1\n",
    "\n",
    "### Arrive at Malaga International  Airport 6/17/2019\n",
    "### Airport website: https://www.airport-malaga.com/\n",
    "### Rent car and drive 24 mins to hotel in Torremolinos beach town\n"
   ]
  },
  {
   "cell_type": "markdown",
   "metadata": {},
   "source": [
    "![image](https://raw.githubusercontent.com/Code-syntax/Spain/master/Malaga_Torremolinos.png)"
   ]
  },
  {
   "cell_type": "markdown",
   "metadata": {},
   "source": [
    "### Insert accomodations booking info here:\n",
    "### Stay in Torremolinos for three nights:\n",
    "### Day 1 (6/17/2019) : Drive to hotel and then go relax on the beach after a long trip then dinner then.. :)\n",
    "### Day 2 (6/18/2019) : Explore Malaga, the two chilltop citadels, Alcazaba and Gibralfaro and the La Manquita Cathedral, the following are the touristic sites websites:\n",
    "### http://www.malagaturismo.com/en/tourist-resources/detail/alcazaba/6\n",
    "### http://www.malagaturismo.com/en/tourist-resources/detail/castillo-de-gibralfaro/12\n",
    "### https://theculturetrip.com/europe/spain/articles/the-most-impressive-buildings-in-malaga-spain/\n",
    "\n",
    "### Day 3: (6/19/2019): Go on boat dives,  then explore for rest fo day, perhaps go to beach, and then go out for dinner || Dive shop link: https://www.simplydiving.com (contact and book boatdive for 6/18/2019 \n",
    "\n",
    "### Day 4: (6/20/2019): Drive to Grenada and explore the town and visit Alhambra"
   ]
  },
  {
   "cell_type": "markdown",
   "metadata": {},
   "source": [
    "![image](https://raw.githubusercontent.com/Code-syntax/Spain/master/Malaga_alhambra.png)"
   ]
  },
  {
   "cell_type": "markdown",
   "metadata": {},
   "source": [
    "### Day 5 (6/21/2019): More exploring around Grenada\n",
    "### Day 6: (6/22/2019): Drive to the Sierra mountains to explore on horseback: https://www.tripadvisor.com/Attraction_Review-g1028186-d7058249-Reviews-Las_Encinillas_Rutas_a_Caballo-Guejar_Sierra_Province_of_Granada_Andalucia.html\n",
    "\n",
    "### Day 7 (6/23/2019): Drive to Almeria explore towns and beach"
   ]
  },
  {
   "cell_type": "markdown",
   "metadata": {},
   "source": [
    "![image](https://raw.githubusercontent.com/Code-syntax/Spain/master/Grenada%20to%20Almeria%201.png)"
   ]
  },
  {
   "cell_type": "markdown",
   "metadata": {},
   "source": [
    "### Day 8 (6/24/2019): Go for a boat dive in the Cabo de Gata natural park, diver shop: http://branquias.es/en/ then drive back to Almeria hotel.\n"
   ]
  },
  {
   "cell_type": "markdown",
   "metadata": {},
   "source": [
    "![image](https://raw.githubusercontent.com/Code-syntax/Spain/master/Almeria%20to%20Cabo%20de%20Gata.png)"
   ]
  },
  {
   "cell_type": "markdown",
   "metadata": {},
   "source": [
    "### Day 9 (6/25/2019): Spend day on the beach then explore then dinner"
   ]
  },
  {
   "cell_type": "markdown",
   "metadata": {},
   "source": [
    "### Day 10 (6/26/2019): Drive back to Malaga airport and commence journey back home :)"
   ]
  },
  {
   "cell_type": "markdown",
   "metadata": {},
   "source": [
    "![image](https://raw.githubusercontent.com/Code-syntax/Spain/master/Almeria%20to%20Malaga%202.png)"
   ]
  }
 ],
 "metadata": {
  "kernelspec": {
   "display_name": "Python 3",
   "language": "python",
   "name": "python3"
  },
  "language_info": {
   "codemirror_mode": {
    "name": "ipython",
    "version": 3
   },
   "file_extension": ".py",
   "mimetype": "text/x-python",
   "name": "python",
   "nbconvert_exporter": "python",
   "pygments_lexer": "ipython3",
   "version": "3.6.5"
  }
 },
 "nbformat": 4,
 "nbformat_minor": 2
}
